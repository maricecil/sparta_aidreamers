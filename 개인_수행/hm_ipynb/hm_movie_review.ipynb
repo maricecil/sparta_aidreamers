{
 "cells": [
  {
   "cell_type": "markdown",
   "id": "e54efce8-3064-4ba2-8f26-1d571145c840",
   "metadata": {},
   "source": [
    "# 영화 감성 리뷰\n",
    "### Netflix의 영화 리뷰 데이터를 사용하여, 리뷰의 평점을 예측해보고, 긍정과 부정 감정을 분류"
   ]
  },
  {
   "cell_type": "markdown",
   "id": "f8f93b40-6cb6-4d8d-82ef-cb77158cbbc9",
   "metadata": {},
   "source": [
    "#### 데이터셋 불러오기"
   ]
  },
  {
   "cell_type": "code",
   "execution_count": 7,
   "id": "d094e45f-ae60-4bd1-9c95-f08bc43c8215",
   "metadata": {},
   "outputs": [],
   "source": [
    "#필요 라이브러리 임포트\n",
    "import pandas as pd\n",
    "\n",
    "#데이터 불러오기\n",
    "df = pd.read_csv('netflix_reviews.csv')"
   ]
  },
  {
   "cell_type": "code",
   "execution_count": 8,
   "id": "f1088eaa-33a4-4a43-8c12-0ceef215bfc7",
   "metadata": {},
   "outputs": [
    {
     "data": {
      "text/html": [
       "<div>\n",
       "<style scoped>\n",
       "    .dataframe tbody tr th:only-of-type {\n",
       "        vertical-align: middle;\n",
       "    }\n",
       "\n",
       "    .dataframe tbody tr th {\n",
       "        vertical-align: top;\n",
       "    }\n",
       "\n",
       "    .dataframe thead th {\n",
       "        text-align: right;\n",
       "    }\n",
       "</style>\n",
       "<table border=\"1\" class=\"dataframe\">\n",
       "  <thead>\n",
       "    <tr style=\"text-align: right;\">\n",
       "      <th></th>\n",
       "      <th>reviewId</th>\n",
       "      <th>userName</th>\n",
       "      <th>content</th>\n",
       "      <th>score</th>\n",
       "      <th>thumbsUpCount</th>\n",
       "      <th>reviewCreatedVersion</th>\n",
       "      <th>at</th>\n",
       "      <th>appVersion</th>\n",
       "    </tr>\n",
       "  </thead>\n",
       "  <tbody>\n",
       "    <tr>\n",
       "      <th>0</th>\n",
       "      <td>09ed2c3a-a4ca-4241-a01c-e7543943ee05</td>\n",
       "      <td>reyes Cruz</td>\n",
       "      <td>Very good experience. Great customer service.</td>\n",
       "      <td>5</td>\n",
       "      <td>0</td>\n",
       "      <td>7.89.0 build 18 35322</td>\n",
       "      <td>2024-10-20 14:10:34</td>\n",
       "      <td>7.89.0 build 18 35322</td>\n",
       "    </tr>\n",
       "    <tr>\n",
       "      <th>1</th>\n",
       "      <td>b2d324ff-0005-45c4-accf-dc983124400d</td>\n",
       "      <td>NISITH DISSANAYAKE (Widenn Gamer)</td>\n",
       "      <td>Bro I was watching w cartoon then this error c...</td>\n",
       "      <td>1</td>\n",
       "      <td>0</td>\n",
       "      <td>8.136.0 build 3 50908</td>\n",
       "      <td>2024-10-20 14:10:25</td>\n",
       "      <td>8.136.0 build 3 50908</td>\n",
       "    </tr>\n",
       "    <tr>\n",
       "      <th>2</th>\n",
       "      <td>2d619b1e-aca3-4807-b77f-c9446a606ddf</td>\n",
       "      <td>Evelyn Okoro</td>\n",
       "      <td>Desent</td>\n",
       "      <td>5</td>\n",
       "      <td>0</td>\n",
       "      <td>NaN</td>\n",
       "      <td>2024-10-20 14:06:08</td>\n",
       "      <td>NaN</td>\n",
       "    </tr>\n",
       "    <tr>\n",
       "      <th>3</th>\n",
       "      <td>03cc29b9-a49a-4e26-885a-d1652bb669be</td>\n",
       "      <td>Yogesh Bhatta</td>\n",
       "      <td>THIS IS SCAM COMPANY.. THEY JUST LOOT PEOPLE M...</td>\n",
       "      <td>1</td>\n",
       "      <td>0</td>\n",
       "      <td>7.98.0 build 7 35414</td>\n",
       "      <td>2024-10-20 14:02:13</td>\n",
       "      <td>7.98.0 build 7 35414</td>\n",
       "    </tr>\n",
       "    <tr>\n",
       "      <th>4</th>\n",
       "      <td>c1b98dcf-0b75-4952-b9ac-6165381f41cf</td>\n",
       "      <td>P3L0NAZ0</td>\n",
       "      <td>Stopped opening. I've uninstalled and reinstal...</td>\n",
       "      <td>1</td>\n",
       "      <td>0</td>\n",
       "      <td>8.136.0 build 3 50908</td>\n",
       "      <td>2024-10-20 14:01:12</td>\n",
       "      <td>8.136.0 build 3 50908</td>\n",
       "    </tr>\n",
       "    <tr>\n",
       "      <th>...</th>\n",
       "      <td>...</td>\n",
       "      <td>...</td>\n",
       "      <td>...</td>\n",
       "      <td>...</td>\n",
       "      <td>...</td>\n",
       "      <td>...</td>\n",
       "      <td>...</td>\n",
       "      <td>...</td>\n",
       "    </tr>\n",
       "    <tr>\n",
       "      <th>117035</th>\n",
       "      <td>a760ead9-e7aa-4ed1-a651-5c37c3600dac</td>\n",
       "      <td>A Google user</td>\n",
       "      <td>i really like it! there are so many movies and...</td>\n",
       "      <td>5</td>\n",
       "      <td>0</td>\n",
       "      <td>NaN</td>\n",
       "      <td>2019-08-03 15:06:03</td>\n",
       "      <td>NaN</td>\n",
       "    </tr>\n",
       "    <tr>\n",
       "      <th>117036</th>\n",
       "      <td>4957f9e7-d7f4-4a52-9764-031cebcac83f</td>\n",
       "      <td>Captain Jeoy</td>\n",
       "      <td>I love Netflix. I always enjoy my time using it.</td>\n",
       "      <td>5</td>\n",
       "      <td>0</td>\n",
       "      <td>8.34.0 build 4 50250</td>\n",
       "      <td>2022-08-15 16:16:30</td>\n",
       "      <td>8.34.0 build 4 50250</td>\n",
       "    </tr>\n",
       "    <tr>\n",
       "      <th>117037</th>\n",
       "      <td>9acf7586-7abf-4b50-8c50-3ede3b2a42c4</td>\n",
       "      <td>Suryansh</td>\n",
       "      <td>Sound quality is very slow of movies</td>\n",
       "      <td>1</td>\n",
       "      <td>0</td>\n",
       "      <td>NaN</td>\n",
       "      <td>2020-08-17 07:26:58</td>\n",
       "      <td>NaN</td>\n",
       "    </tr>\n",
       "    <tr>\n",
       "      <th>117038</th>\n",
       "      <td>32870f7f-c461-4256-b602-75244ca60248</td>\n",
       "      <td>A Google user</td>\n",
       "      <td>Rate is very expensive.. bcos we see netflix s...</td>\n",
       "      <td>1</td>\n",
       "      <td>0</td>\n",
       "      <td>7.17.0 build 13 34346</td>\n",
       "      <td>2019-07-21 09:41:42</td>\n",
       "      <td>7.17.0 build 13 34346</td>\n",
       "    </tr>\n",
       "    <tr>\n",
       "      <th>117039</th>\n",
       "      <td>dc1352e9-10a8-41ca-ab23-05d045b08e90</td>\n",
       "      <td>suraj soni</td>\n",
       "      <td>this app is awesome for english movies ,series...</td>\n",
       "      <td>4</td>\n",
       "      <td>0</td>\n",
       "      <td>NaN</td>\n",
       "      <td>2020-05-24 11:04:08</td>\n",
       "      <td>NaN</td>\n",
       "    </tr>\n",
       "  </tbody>\n",
       "</table>\n",
       "<p>117040 rows × 8 columns</p>\n",
       "</div>"
      ],
      "text/plain": [
       "                                    reviewId  \\\n",
       "0       09ed2c3a-a4ca-4241-a01c-e7543943ee05   \n",
       "1       b2d324ff-0005-45c4-accf-dc983124400d   \n",
       "2       2d619b1e-aca3-4807-b77f-c9446a606ddf   \n",
       "3       03cc29b9-a49a-4e26-885a-d1652bb669be   \n",
       "4       c1b98dcf-0b75-4952-b9ac-6165381f41cf   \n",
       "...                                      ...   \n",
       "117035  a760ead9-e7aa-4ed1-a651-5c37c3600dac   \n",
       "117036  4957f9e7-d7f4-4a52-9764-031cebcac83f   \n",
       "117037  9acf7586-7abf-4b50-8c50-3ede3b2a42c4   \n",
       "117038  32870f7f-c461-4256-b602-75244ca60248   \n",
       "117039  dc1352e9-10a8-41ca-ab23-05d045b08e90   \n",
       "\n",
       "                                 userName  \\\n",
       "0                              reyes Cruz   \n",
       "1       NISITH DISSANAYAKE (Widenn Gamer)   \n",
       "2                            Evelyn Okoro   \n",
       "3                           Yogesh Bhatta   \n",
       "4                                P3L0NAZ0   \n",
       "...                                   ...   \n",
       "117035                      A Google user   \n",
       "117036                       Captain Jeoy   \n",
       "117037                           Suryansh   \n",
       "117038                      A Google user   \n",
       "117039                         suraj soni   \n",
       "\n",
       "                                                  content  score  \\\n",
       "0           Very good experience. Great customer service.      5   \n",
       "1       Bro I was watching w cartoon then this error c...      1   \n",
       "2                                                  Desent      5   \n",
       "3       THIS IS SCAM COMPANY.. THEY JUST LOOT PEOPLE M...      1   \n",
       "4       Stopped opening. I've uninstalled and reinstal...      1   \n",
       "...                                                   ...    ...   \n",
       "117035  i really like it! there are so many movies and...      5   \n",
       "117036   I love Netflix. I always enjoy my time using it.      5   \n",
       "117037               Sound quality is very slow of movies      1   \n",
       "117038  Rate is very expensive.. bcos we see netflix s...      1   \n",
       "117039  this app is awesome for english movies ,series...      4   \n",
       "\n",
       "        thumbsUpCount   reviewCreatedVersion                   at  \\\n",
       "0                   0  7.89.0 build 18 35322  2024-10-20 14:10:34   \n",
       "1                   0  8.136.0 build 3 50908  2024-10-20 14:10:25   \n",
       "2                   0                    NaN  2024-10-20 14:06:08   \n",
       "3                   0   7.98.0 build 7 35414  2024-10-20 14:02:13   \n",
       "4                   0  8.136.0 build 3 50908  2024-10-20 14:01:12   \n",
       "...               ...                    ...                  ...   \n",
       "117035              0                    NaN  2019-08-03 15:06:03   \n",
       "117036              0   8.34.0 build 4 50250  2022-08-15 16:16:30   \n",
       "117037              0                    NaN  2020-08-17 07:26:58   \n",
       "117038              0  7.17.0 build 13 34346  2019-07-21 09:41:42   \n",
       "117039              0                    NaN  2020-05-24 11:04:08   \n",
       "\n",
       "                   appVersion  \n",
       "0       7.89.0 build 18 35322  \n",
       "1       8.136.0 build 3 50908  \n",
       "2                         NaN  \n",
       "3        7.98.0 build 7 35414  \n",
       "4       8.136.0 build 3 50908  \n",
       "...                       ...  \n",
       "117035                    NaN  \n",
       "117036   8.34.0 build 4 50250  \n",
       "117037                    NaN  \n",
       "117038  7.17.0 build 13 34346  \n",
       "117039                    NaN  \n",
       "\n",
       "[117040 rows x 8 columns]"
      ]
     },
     "execution_count": 8,
     "metadata": {},
     "output_type": "execute_result"
    }
   ],
   "source": [
    "#데이터 출력\n",
    "df"
   ]
  },
  {
   "cell_type": "code",
   "execution_count": 9,
   "id": "99e9022f-d3ef-4dd3-a116-64024c58ead8",
   "metadata": {},
   "outputs": [
    {
     "data": {
      "text/html": [
       "<div>\n",
       "<style scoped>\n",
       "    .dataframe tbody tr th:only-of-type {\n",
       "        vertical-align: middle;\n",
       "    }\n",
       "\n",
       "    .dataframe tbody tr th {\n",
       "        vertical-align: top;\n",
       "    }\n",
       "\n",
       "    .dataframe thead th {\n",
       "        text-align: right;\n",
       "    }\n",
       "</style>\n",
       "<table border=\"1\" class=\"dataframe\">\n",
       "  <thead>\n",
       "    <tr style=\"text-align: right;\">\n",
       "      <th></th>\n",
       "      <th>reviewId</th>\n",
       "      <th>userName</th>\n",
       "      <th>content</th>\n",
       "      <th>score</th>\n",
       "      <th>thumbsUpCount</th>\n",
       "      <th>reviewCreatedVersion</th>\n",
       "      <th>at</th>\n",
       "      <th>appVersion</th>\n",
       "    </tr>\n",
       "  </thead>\n",
       "  <tbody>\n",
       "    <tr>\n",
       "      <th>0</th>\n",
       "      <td>09ed2c3a-a4ca-4241-a01c-e7543943ee05</td>\n",
       "      <td>reyes Cruz</td>\n",
       "      <td>Very good experience. Great customer service.</td>\n",
       "      <td>5</td>\n",
       "      <td>0</td>\n",
       "      <td>7.89.0 build 18 35322</td>\n",
       "      <td>2024-10-20 14:10:34</td>\n",
       "      <td>7.89.0 build 18 35322</td>\n",
       "    </tr>\n",
       "    <tr>\n",
       "      <th>1</th>\n",
       "      <td>b2d324ff-0005-45c4-accf-dc983124400d</td>\n",
       "      <td>NISITH DISSANAYAKE (Widenn Gamer)</td>\n",
       "      <td>Bro I was watching w cartoon then this error c...</td>\n",
       "      <td>1</td>\n",
       "      <td>0</td>\n",
       "      <td>8.136.0 build 3 50908</td>\n",
       "      <td>2024-10-20 14:10:25</td>\n",
       "      <td>8.136.0 build 3 50908</td>\n",
       "    </tr>\n",
       "    <tr>\n",
       "      <th>2</th>\n",
       "      <td>2d619b1e-aca3-4807-b77f-c9446a606ddf</td>\n",
       "      <td>Evelyn Okoro</td>\n",
       "      <td>Desent</td>\n",
       "      <td>5</td>\n",
       "      <td>0</td>\n",
       "      <td>NaN</td>\n",
       "      <td>2024-10-20 14:06:08</td>\n",
       "      <td>NaN</td>\n",
       "    </tr>\n",
       "    <tr>\n",
       "      <th>3</th>\n",
       "      <td>03cc29b9-a49a-4e26-885a-d1652bb669be</td>\n",
       "      <td>Yogesh Bhatta</td>\n",
       "      <td>THIS IS SCAM COMPANY.. THEY JUST LOOT PEOPLE M...</td>\n",
       "      <td>1</td>\n",
       "      <td>0</td>\n",
       "      <td>7.98.0 build 7 35414</td>\n",
       "      <td>2024-10-20 14:02:13</td>\n",
       "      <td>7.98.0 build 7 35414</td>\n",
       "    </tr>\n",
       "    <tr>\n",
       "      <th>4</th>\n",
       "      <td>c1b98dcf-0b75-4952-b9ac-6165381f41cf</td>\n",
       "      <td>P3L0NAZ0</td>\n",
       "      <td>Stopped opening. I've uninstalled and reinstal...</td>\n",
       "      <td>1</td>\n",
       "      <td>0</td>\n",
       "      <td>8.136.0 build 3 50908</td>\n",
       "      <td>2024-10-20 14:01:12</td>\n",
       "      <td>8.136.0 build 3 50908</td>\n",
       "    </tr>\n",
       "  </tbody>\n",
       "</table>\n",
       "</div>"
      ],
      "text/plain": [
       "                               reviewId                           userName  \\\n",
       "0  09ed2c3a-a4ca-4241-a01c-e7543943ee05                         reyes Cruz   \n",
       "1  b2d324ff-0005-45c4-accf-dc983124400d  NISITH DISSANAYAKE (Widenn Gamer)   \n",
       "2  2d619b1e-aca3-4807-b77f-c9446a606ddf                       Evelyn Okoro   \n",
       "3  03cc29b9-a49a-4e26-885a-d1652bb669be                      Yogesh Bhatta   \n",
       "4  c1b98dcf-0b75-4952-b9ac-6165381f41cf                           P3L0NAZ0   \n",
       "\n",
       "                                             content  score  thumbsUpCount  \\\n",
       "0      Very good experience. Great customer service.      5              0   \n",
       "1  Bro I was watching w cartoon then this error c...      1              0   \n",
       "2                                             Desent      5              0   \n",
       "3  THIS IS SCAM COMPANY.. THEY JUST LOOT PEOPLE M...      1              0   \n",
       "4  Stopped opening. I've uninstalled and reinstal...      1              0   \n",
       "\n",
       "    reviewCreatedVersion                   at             appVersion  \n",
       "0  7.89.0 build 18 35322  2024-10-20 14:10:34  7.89.0 build 18 35322  \n",
       "1  8.136.0 build 3 50908  2024-10-20 14:10:25  8.136.0 build 3 50908  \n",
       "2                    NaN  2024-10-20 14:06:08                    NaN  \n",
       "3   7.98.0 build 7 35414  2024-10-20 14:02:13   7.98.0 build 7 35414  \n",
       "4  8.136.0 build 3 50908  2024-10-20 14:01:12  8.136.0 build 3 50908  "
      ]
     },
     "execution_count": 9,
     "metadata": {},
     "output_type": "execute_result"
    }
   ],
   "source": [
    "#데이터 출력(상단5개)\n",
    "df.head()"
   ]
  },
  {
   "cell_type": "code",
   "execution_count": 10,
   "id": "6b986ff4-9ff6-451b-bdc2-6634777e6cf8",
   "metadata": {},
   "outputs": [
    {
     "data": {
      "text/html": [
       "<div>\n",
       "<style scoped>\n",
       "    .dataframe tbody tr th:only-of-type {\n",
       "        vertical-align: middle;\n",
       "    }\n",
       "\n",
       "    .dataframe tbody tr th {\n",
       "        vertical-align: top;\n",
       "    }\n",
       "\n",
       "    .dataframe thead th {\n",
       "        text-align: right;\n",
       "    }\n",
       "</style>\n",
       "<table border=\"1\" class=\"dataframe\">\n",
       "  <thead>\n",
       "    <tr style=\"text-align: right;\">\n",
       "      <th></th>\n",
       "      <th>reviewId</th>\n",
       "      <th>userName</th>\n",
       "      <th>content</th>\n",
       "      <th>score</th>\n",
       "      <th>thumbsUpCount</th>\n",
       "      <th>reviewCreatedVersion</th>\n",
       "      <th>at</th>\n",
       "      <th>appVersion</th>\n",
       "    </tr>\n",
       "  </thead>\n",
       "  <tbody>\n",
       "    <tr>\n",
       "      <th>117035</th>\n",
       "      <td>a760ead9-e7aa-4ed1-a651-5c37c3600dac</td>\n",
       "      <td>A Google user</td>\n",
       "      <td>i really like it! there are so many movies and...</td>\n",
       "      <td>5</td>\n",
       "      <td>0</td>\n",
       "      <td>NaN</td>\n",
       "      <td>2019-08-03 15:06:03</td>\n",
       "      <td>NaN</td>\n",
       "    </tr>\n",
       "    <tr>\n",
       "      <th>117036</th>\n",
       "      <td>4957f9e7-d7f4-4a52-9764-031cebcac83f</td>\n",
       "      <td>Captain Jeoy</td>\n",
       "      <td>I love Netflix. I always enjoy my time using it.</td>\n",
       "      <td>5</td>\n",
       "      <td>0</td>\n",
       "      <td>8.34.0 build 4 50250</td>\n",
       "      <td>2022-08-15 16:16:30</td>\n",
       "      <td>8.34.0 build 4 50250</td>\n",
       "    </tr>\n",
       "    <tr>\n",
       "      <th>117037</th>\n",
       "      <td>9acf7586-7abf-4b50-8c50-3ede3b2a42c4</td>\n",
       "      <td>Suryansh</td>\n",
       "      <td>Sound quality is very slow of movies</td>\n",
       "      <td>1</td>\n",
       "      <td>0</td>\n",
       "      <td>NaN</td>\n",
       "      <td>2020-08-17 07:26:58</td>\n",
       "      <td>NaN</td>\n",
       "    </tr>\n",
       "    <tr>\n",
       "      <th>117038</th>\n",
       "      <td>32870f7f-c461-4256-b602-75244ca60248</td>\n",
       "      <td>A Google user</td>\n",
       "      <td>Rate is very expensive.. bcos we see netflix s...</td>\n",
       "      <td>1</td>\n",
       "      <td>0</td>\n",
       "      <td>7.17.0 build 13 34346</td>\n",
       "      <td>2019-07-21 09:41:42</td>\n",
       "      <td>7.17.0 build 13 34346</td>\n",
       "    </tr>\n",
       "    <tr>\n",
       "      <th>117039</th>\n",
       "      <td>dc1352e9-10a8-41ca-ab23-05d045b08e90</td>\n",
       "      <td>suraj soni</td>\n",
       "      <td>this app is awesome for english movies ,series...</td>\n",
       "      <td>4</td>\n",
       "      <td>0</td>\n",
       "      <td>NaN</td>\n",
       "      <td>2020-05-24 11:04:08</td>\n",
       "      <td>NaN</td>\n",
       "    </tr>\n",
       "  </tbody>\n",
       "</table>\n",
       "</div>"
      ],
      "text/plain": [
       "                                    reviewId       userName  \\\n",
       "117035  a760ead9-e7aa-4ed1-a651-5c37c3600dac  A Google user   \n",
       "117036  4957f9e7-d7f4-4a52-9764-031cebcac83f   Captain Jeoy   \n",
       "117037  9acf7586-7abf-4b50-8c50-3ede3b2a42c4       Suryansh   \n",
       "117038  32870f7f-c461-4256-b602-75244ca60248  A Google user   \n",
       "117039  dc1352e9-10a8-41ca-ab23-05d045b08e90     suraj soni   \n",
       "\n",
       "                                                  content  score  \\\n",
       "117035  i really like it! there are so many movies and...      5   \n",
       "117036   I love Netflix. I always enjoy my time using it.      5   \n",
       "117037               Sound quality is very slow of movies      1   \n",
       "117038  Rate is very expensive.. bcos we see netflix s...      1   \n",
       "117039  this app is awesome for english movies ,series...      4   \n",
       "\n",
       "        thumbsUpCount   reviewCreatedVersion                   at  \\\n",
       "117035              0                    NaN  2019-08-03 15:06:03   \n",
       "117036              0   8.34.0 build 4 50250  2022-08-15 16:16:30   \n",
       "117037              0                    NaN  2020-08-17 07:26:58   \n",
       "117038              0  7.17.0 build 13 34346  2019-07-21 09:41:42   \n",
       "117039              0                    NaN  2020-05-24 11:04:08   \n",
       "\n",
       "                   appVersion  \n",
       "117035                    NaN  \n",
       "117036   8.34.0 build 4 50250  \n",
       "117037                    NaN  \n",
       "117038  7.17.0 build 13 34346  \n",
       "117039                    NaN  "
      ]
     },
     "execution_count": 10,
     "metadata": {},
     "output_type": "execute_result"
    }
   ],
   "source": [
    "#데이터 출력(하단5개)\n",
    "df.tail()"
   ]
  },
  {
   "cell_type": "code",
   "execution_count": 11,
   "id": "3ab264a7-dfbf-406f-9ec1-f345e221a11c",
   "metadata": {},
   "outputs": [
    {
     "name": "stdout",
     "output_type": "stream",
     "text": [
      "Shape of the dataset: (117040, 8)\n",
      "Columns in the dataset: Index(['reviewId', 'userName', 'content', 'score', 'thumbsUpCount',\n",
      "       'reviewCreatedVersion', 'at', 'appVersion'],\n",
      "      dtype='object')\n"
     ]
    }
   ],
   "source": [
    "#shape 출력\n",
    "\n",
    "# 데이터프레임의 모양 출력\n",
    "print(f\"Shape of the dataset: {df.shape}\")\n",
    "\n",
    "# 데이터프레임의 열 이름 출력\n",
    "print(f\"Columns in the dataset: {df.columns}\")"
   ]
  },
  {
   "cell_type": "markdown",
   "id": "ad246554-9806-4ea3-8671-e842039f422c",
   "metadata": {},
   "source": [
    "---"
   ]
  },
  {
   "cell_type": "markdown",
   "id": "a545e4ae-d9e0-425d-b8ea-e02978116c5e",
   "metadata": {},
   "source": [
    "#### 데이터 전처리"
   ]
  },
  {
   "cell_type": "code",
   "execution_count": 12,
   "id": "37e1b936-8525-4258-bb83-8f51c2b4c23e",
   "metadata": {},
   "outputs": [],
   "source": [
    "#데이터 전처리\n",
    "def preprocess_text(text): #텍스트 데이터를 입력받아 전처리된 결과를 반환하는 함수. 입력 변수는 text.\n",
    "    if isinstance(text, float): #text라는 변수에 담긴 값이 실수(float) 타입인지 검사\n",
    "        return \"\" #만약 text가 실수인 경우, 이후의 문자열 처리 과정에서 오류가 발생할 수 있기 때문에, 이와 같은 실수 타입의 데이터는 빈 문자열 \"\"로 변환\n",
    "    text = text.lower() #대문자를 소문자로 변환\n",
    "    text = re.sub(r'[^\\w\\s]', '', text) #정규 표현식을 사용하여 구두점(마침표, 쉼표 등)을 제거. 단어와 공백(\\w와\\s)을 제외한 모든 문자를 제거하는 역할\n",
    "    text = re.sub(r'\\d+', '', text) #숫자를 모두 제거, 정규 표현식 \\d+는 하나 이상의 숫자를 의미하며, 이를 빈 문자열로 대체\n",
    "    text = text.strip() #text.strip()은 문자열 양 끝에 있는 불필요한 공백을 제거합니다. 텍스트 중간에 있는 공백은 그대로 두지만, 시작이나 끝부분의 공백은 제거\n",
    "    return text"
   ]
  },
  {
   "cell_type": "code",
   "execution_count": 13,
   "id": "acec13bb-339c-4d12-963e-077d80f19586",
   "metadata": {},
   "outputs": [
    {
     "name": "stderr",
     "output_type": "stream",
     "text": [
      "/var/folders/hx/68vgjxsx1fz3b23kg7xk3njh0000gn/T/ipykernel_8343/251318026.py:13: FutureWarning: \n",
      "\n",
      "Passing `palette` without assigning `hue` is deprecated and will be removed in v0.14.0. Assign the `x` variable to `hue` and set `legend=False` for the same effect.\n",
      "\n",
      "  sns.barplot(x=score_counts.index, y=score_counts.values, palette=\"Greens\")\n"
     ]
    },
    {
     "data": {
      "image/png": "[encoded data removed]",
      "text/plain": [
       "<Figure size 640x480 with 1 Axes>"
      ]
     },
     "metadata": {},
     "output_type": "display_data"
    }
   ],
   "source": [
    "#feature 분석(EDA)\n",
    "\n",
    "# 라이브러리 임포트\n",
    "import seaborn as sns\n",
    "import matplotlib.pyplot as plt\n",
    "\n",
    "# 리뷰 점수에 대한 빈도를 계산\n",
    "score_counts = df['score'].value_counts().sort_index()\n",
    "#value_counts(): df['score']에 있는 각 점수의 빈도를 계산. 이 함수는 각 점수가 몇 번 나타났는지 계산하여 반환\n",
    "#sort_index(): 점수의 크기 순으로 정렬 (예. 1점, 2점, 3점 ...)\n",
    "\n",
    "# 바 그래프 생성\n",
    "sns.barplot(x=score_counts.index, y=score_counts.values, palette=\"Greens\")\n",
    "# x=score_counts.index: x축에 각 점수(1,2,3,4,5)를 배치\n",
    "# y=score_counts.value: y축에 각 점수에 해당하는 리뷰의 빈도를 배치\n",
    "# palette: 막대그래프 색상 변경\n",
    "\n",
    "plt.xlabel('Score')  # x축 라벨\n",
    "plt.ylabel('Count')  # y축 라벨\n",
    "plt.title('Distribution of Scores')  # 그래프 제목\n",
    "plt.show() #그래프 출력"
   ]
  },
  {
   "cell_type": "markdown",
   "id": "7bf12ac3-f317-415d-aa23-3eaef18bde4f",
   "metadata": {},
   "source": [
    "---"
   ]
  },
  {
   "cell_type": "markdown",
   "id": "e47302f4-4ac1-46f1-956d-bc59219da315",
   "metadata": {},
   "source": [
    "### 리뷰 예측 모델 학습시키기(LSTM)"
   ]
  },
  {
   "cell_type": "markdown",
   "id": "fe052bdb-6bed-4c50-b8a5-5d228188ddec",
   "metadata": {},
   "source": [
    "- 로지스틱 회귀 등을 사용하여, 리뷰에 대한 점수를 예측"
   ]
  },
  {
   "cell_type": "code",
   "execution_count": 22,
   "id": "4540c2ff-edfa-48fe-977a-5707c1613552",
   "metadata": {},
   "outputs": [],
   "source": [
    "#라이브러리 임포트\n",
    "import re\n",
    "import torch\n",
    "import torch.nn as nn\n",
    "from torch.utils.data import Dataset, DataLoader\n",
    "from sklearn.preprocessing import LabelEncoder\n",
    "from sklearn.model_selection import train_test_split\n",
    "from torchtext.data.utils import get_tokenizer\n",
    "from collections import Counter\n",
    "from torchtext.vocab import Vocab\n",
    "from torch.nn.utils.rnn import pad_sequence"
   ]
  },
  {
   "cell_type": "code",
   "execution_count": 23,
   "id": "86e0cbc1-2c9f-49f2-ad54-ff315f3a16c3",
   "metadata": {},
   "outputs": [],
   "source": [
    "# 텍스트 전처리 함수\n",
    "def preprocess_text(text):\n",
    "    if isinstance(text, float):\n",
    "        return \"\"\n",
    "    text = text.lower()\n",
    "    text = re.sub(r'[^\\w\\s]', '', text)\n",
    "    text = re.sub(r'\\d+', '', text)\n",
    "    text = text.strip()\n",
    "    return text"
   ]
  },
  {
   "cell_type": "code",
   "execution_count": 24,
   "id": "0e75cf76-3b88-41b0-9f43-f05802d372a7",
   "metadata": {},
   "outputs": [],
   "source": [
    "# 데이터 전처리\n",
    "df['content'] = df['content'].apply(preprocess_text)"
   ]
  },
  {
   "cell_type": "code",
   "execution_count": 25,
   "id": "65580cc3-0478-4fac-b73a-13ea0e2a7358",
   "metadata": {},
   "outputs": [],
   "source": [
    "# 토큰화\n",
    "tokenizer = get_tokenizer(\"basic_english\")"
   ]
  },
  {
   "cell_type": "code",
   "execution_count": 26,
   "id": "c5cc17d6-29b4-4c4f-afa1-add4759e954a",
   "metadata": {},
   "outputs": [],
   "source": [
    "# 어휘 사전 구축\n",
    "def yield_tokens(data_iter):\n",
    "    for text in data_iter:\n",
    "        yield tokenizer(text)"
   ]
  },
  {
   "cell_type": "code",
   "execution_count": 27,
   "id": "cdc6ef71-8c5d-4f9b-81f5-85849d860730",
   "metadata": {},
   "outputs": [],
   "source": [
    "# 어휘 사전 생성\n",
    "counter = Counter()\n",
    "for tokens in yield_tokens(df['content']):\n",
    "    counter.update(tokens)"
   ]
  },
  {
   "cell_type": "code",
   "execution_count": 28,
   "id": "b71b3521-71ce-4689-9583-e359b1273de9",
   "metadata": {},
   "outputs": [],
   "source": [
    "# 특별 토큰을 포함한 어휘 사전 생성\n",
    "special_tokens = [\"<unk>\"]\n",
    "vocab = Vocab(counter, specials=special_tokens)"
   ]
  },
  {
   "cell_type": "code",
   "execution_count": 29,
   "id": "70ad7090-8069-46b3-a8c3-ec7807e298ec",
   "metadata": {},
   "outputs": [],
   "source": [
    "# 'tokenized' 열 생성\n",
    "df['tokenized'] = df['content'].apply(lambda x: [vocab[token] for token in tokenizer(x)])"
   ]
  },
  {
   "cell_type": "code",
   "execution_count": 30,
   "id": "ef7fbe96-42b1-4805-8472-324ce199fa98",
   "metadata": {},
   "outputs": [],
   "source": [
    "# 데이터셋 클래스 정의\n",
    "class ReviewDataset(Dataset):\n",
    "    def __init__(self, texts, labels):\n",
    "        self.texts = texts\n",
    "        self.labels = labels\n",
    "\n",
    "    def __len__(self):\n",
    "        return len(self.texts)\n",
    "\n",
    "    def __getitem__(self, idx):\n",
    "        text = self.texts[idx]\n",
    "        label = self.labels[idx]\n",
    "        return torch.tensor(text, dtype=torch.long), torch.tensor(label, dtype=torch.long)"
   ]
  },
  {
   "cell_type": "code",
   "execution_count": 31,
   "id": "8379f1ea-8ec8-440e-bc30-f13ca710d5a5",
   "metadata": {},
   "outputs": [],
   "source": [
    "# 점수를 숫자로 인코딩\n",
    "label_encoder = LabelEncoder()\n",
    "df['score_encoded'] = label_encoder.fit_transform(df['score'])"
   ]
  },
  {
   "cell_type": "code",
   "execution_count": 32,
   "id": "2207bcb5-c72c-4852-badd-7def2601964b",
   "metadata": {},
   "outputs": [],
   "source": [
    "# 훈련 및 테스트 데이터 분리\n",
    "train_texts, test_texts, train_labels, test_labels = train_test_split(\n",
    "    df['tokenized'], df['score_encoded'], test_size=0.2, random_state=42\n",
    ")"
   ]
  },
  {
   "cell_type": "code",
   "execution_count": 33,
   "id": "3fb96be1-d964-4a23-99b2-3a69bd65420d",
   "metadata": {},
   "outputs": [],
   "source": [
    "# 패딩을 적용한 collate_fn 정의\n",
    "def collate_fn(batch):\n",
    "    texts, labels = zip(*batch)\n",
    "    texts = [torch.tensor(text, dtype=torch.long) for text in texts]  # long 타입으로 변환\n",
    "    texts_padded = pad_sequence(texts, batch_first=True, padding_value=vocab['<unk>'])  # 패딩 적용\n",
    "    labels = torch.tensor(labels, dtype=torch.long)  # long 타입으로 변환\n",
    "    return texts_padded, labels"
   ]
  },
  {
   "cell_type": "code",
   "execution_count": 34,
   "id": "0962e841-3271-4529-b592-a9be3888fd9a",
   "metadata": {},
   "outputs": [],
   "source": [
    "# 데이터 로더 정의\n",
    "train_dataset = ReviewDataset(train_texts.tolist(), train_labels.tolist())\n",
    "test_dataset = ReviewDataset(test_texts.tolist(), test_labels.tolist())\n",
    "\n",
    "train_loader = DataLoader(train_dataset, batch_size=64, shuffle=True, collate_fn=collate_fn)\n",
    "test_loader = DataLoader(test_dataset, batch_size=64, shuffle=False, collate_fn=collate_fn)"
   ]
  },
  {
   "cell_type": "code",
   "execution_count": 35,
   "id": "1670a16a-d24d-44ae-a27f-a7972f690a24",
   "metadata": {},
   "outputs": [],
   "source": [
    "# LSTM 모델 정의\n",
    "class LSTMModel(nn.Module):\n",
    "    def __init__(self, vocab_size, embedding_dim, hidden_dim, output_dim):\n",
    "        super(LSTMModel, self).__init__()\n",
    "        self.embedding = nn.Embedding(vocab_size, embedding_dim)\n",
    "        self.lstm = nn.LSTM(embedding_dim, hidden_dim, batch_first=True)\n",
    "        self.fc = nn.Linear(hidden_dim, output_dim)\n",
    "\n",
    "    def forward(self, text):\n",
    "        embedded = self.embedding(text)\n",
    "        lstm_out, _ = self.lstm(embedded)\n",
    "        lstm_out = lstm_out[:, -1, :]  # 마지막 타임스텝의 출력 사용\n",
    "        output = self.fc(lstm_out)\n",
    "        return output"
   ]
  },
  {
   "cell_type": "code",
   "execution_count": 36,
   "id": "9df411f6-cc76-432c-9252-414aedb3c054",
   "metadata": {},
   "outputs": [],
   "source": [
    "# 하이퍼파라미터 정의\n",
    "vocab_size = len(vocab)  # 어휘 사전의 크기\n",
    "embedding_dim = 128  # 임베딩 차원\n",
    "hidden_dim = 256  # LSTM 은닉층 차원\n",
    "output_dim = len(label_encoder.classes_)  # 출력 차원 (점수 개수)"
   ]
  },
  {
   "cell_type": "code",
   "execution_count": 37,
   "id": "8a006ffd-cce3-4555-b50d-e15fc0a77eb6",
   "metadata": {},
   "outputs": [],
   "source": [
    "# 모델 초기화\n",
    "model = LSTMModel(vocab_size, embedding_dim, hidden_dim, output_dim)"
   ]
  },
  {
   "cell_type": "code",
   "execution_count": 38,
   "id": "a697cbd1-63dd-4ae7-9e71-adb5a5a04fcc",
   "metadata": {},
   "outputs": [],
   "source": [
    "# 손실 함수와 옵티마이저 정의\n",
    "criterion = nn.CrossEntropyLoss()  # 분류 문제이므로 교차 엔트로피 손실 사용\n",
    "optimizer = torch.optim.Adam(model.parameters(), lr=0.001)"
   ]
  },
  {
   "cell_type": "code",
   "execution_count": 39,
   "id": "90a37f42-23f6-493d-b504-545d85b1a191",
   "metadata": {},
   "outputs": [],
   "source": [
    "# 모델 학습 및 평가 함수\n",
    "def train(model, train_loader, criterion, optimizer, device):\n",
    "    model.train()\n",
    "    total_loss = 0\n",
    "    for texts, labels in train_loader:\n",
    "        texts, labels = texts.to(device), labels.to(device)\n",
    "        optimizer.zero_grad()\n",
    "        outputs = model(texts)\n",
    "        loss = criterion(outputs, labels)\n",
    "        loss.backward()\n",
    "        optimizer.step()\n",
    "        total_loss += loss.item()\n",
    "    return total_loss / len(train_loader)\n",
    "\n",
    "def evaluate(model, test_loader, criterion, device):\n",
    "    model.eval()\n",
    "    total_loss = 0\n",
    "    correct = 0\n",
    "    with torch.no_grad():\n",
    "        for texts, labels in test_loader:\n",
    "            texts, labels = texts.to(device), labels.to(device)\n",
    "            outputs = model(texts)\n",
    "            loss = criterion(outputs, labels)\n",
    "            total_loss += loss.item()\n",
    "            preds = outputs.argmax(dim=1)\n",
    "            correct += (preds == labels).sum().item()\n",
    "    accuracy = correct / len(test_loader.dataset)\n",
    "    return total_loss / len(test_loader), accuracy"
   ]
  },
  {
   "cell_type": "code",
   "execution_count": 40,
   "id": "680a40cc-c891-403c-9874-2a44b921fc54",
   "metadata": {},
   "outputs": [
    {
     "name": "stderr",
     "output_type": "stream",
     "text": [
      "/var/folders/hx/68vgjxsx1fz3b23kg7xk3njh0000gn/T/ipykernel_8343/1320788819.py:4: UserWarning: To copy construct from a tensor, it is recommended to use sourceTensor.clone().detach() or sourceTensor.clone().detach().requires_grad_(True), rather than torch.tensor(sourceTensor).\n",
      "  texts = [torch.tensor(text, dtype=torch.long) for text in texts]  # long 타입으로 변환\n"
     ]
    },
    {
     "name": "stdout",
     "output_type": "stream",
     "text": [
      "Epoch 1, Train Loss: 1.2116, Test Loss: 0.9946, Test Accuracy: 0.6408\n",
      "Epoch 2, Train Loss: 0.9525, Test Loss: 0.9366, Test Accuracy: 0.6552\n",
      "Epoch 3, Train Loss: 0.8880, Test Loss: 0.9190, Test Accuracy: 0.6603\n",
      "Epoch 4, Train Loss: 0.8356, Test Loss: 0.9225, Test Accuracy: 0.6601\n",
      "Epoch 5, Train Loss: 0.7779, Test Loss: 0.9545, Test Accuracy: 0.6496\n",
      "Epoch 6, Train Loss: 0.7114, Test Loss: 1.0104, Test Accuracy: 0.6433\n",
      "Epoch 7, Train Loss: 0.6351, Test Loss: 1.0646, Test Accuracy: 0.6301\n",
      "Epoch 8, Train Loss: 0.5555, Test Loss: 1.1675, Test Accuracy: 0.6210\n",
      "Epoch 9, Train Loss: 0.4787, Test Loss: 1.2460, Test Accuracy: 0.6124\n",
      "Epoch 10, Train Loss: 0.4148, Test Loss: 1.3261, Test Accuracy: 0.6110\n"
     ]
    }
   ],
   "source": [
    "# 학습 루프\n",
    "num_epochs = 10\n",
    "device = torch.device('cuda' if torch.cuda.is_available() else 'cpu')\n",
    "model.to(device)\n",
    "\n",
    "for epoch in range(num_epochs):\n",
    "    train_loss = train(model, train_loader, criterion, optimizer, device)\n",
    "    test_loss, test_accuracy = evaluate(model, test_loader, criterion, device)\n",
    "    print(f'Epoch {epoch+1}, Train Loss: {train_loss:.4f}, Test Loss: {test_loss:.4f}, Test Accuracy: {test_accuracy:.4f}')"
   ]
  },
  {
   "cell_type": "code",
   "execution_count": 41,
   "id": "cd4f0c26-4d2b-4f21-a8e7-d45d72480305",
   "metadata": {},
   "outputs": [],
   "source": [
    "# 예측 함수(예시)\n",
    "def predict_review(model, review_text, vocab, tokenizer, device):\n",
    "    model.eval()\n",
    "    tokenized = [vocab[token] for token in tokenizer(review_text)]\n",
    "    input_tensor = torch.tensor([tokenized], dtype=torch.long).to(device)\n",
    "    with torch.no_grad():\n",
    "        output = model(input_tensor)\n",
    "        prediction = torch.argmax(output, dim=1).item()\n",
    "    return label_encoder.inverse_transform([prediction])[0]  # 예측된 점수를 원래 점수로 변환"
   ]
  },
  {
   "cell_type": "code",
   "execution_count": 54,
   "id": "c0c92814-c869-4f43-a753-d25f71a51f82",
   "metadata": {},
   "outputs": [
    {
     "name": "stdout",
     "output_type": "stream",
     "text": [
      "Predicted Score: 1\n"
     ]
    }
   ],
   "source": [
    "# 새로운 리뷰에 대한 예측\n",
    "new_review = \"this movie was bad.\"\n",
    "predicted_score = predict_review(model, new_review, vocab, tokenizer, device)\n",
    "print(f\"Predicted Score: {predicted_score}\")"
   ]
  },
  {
   "cell_type": "code",
   "execution_count": null,
   "id": "d68f8c1e-e15b-40c3-86b2-636df7154c96",
   "metadata": {},
   "outputs": [],
   "source": []
  }
 ],
 "metadata": {
  "kernelspec": {
   "display_name": "Python (DL_learn)",
   "language": "python",
   "name": "dl_learn"
  },
  "language_info": {
   "codemirror_mode": {
    "name": "ipython",
    "version": 3
   },
   "file_extension": ".py",
   "mimetype": "text/x-python",
   "name": "python",
   "nbconvert_exporter": "python",
   "pygments_lexer": "ipython3",
   "version": "3.12.7"
  }
 },
 "nbformat": 4,
 "nbformat_minor": 5
}
