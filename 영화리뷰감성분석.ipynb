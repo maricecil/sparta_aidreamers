{
 "cells": [
  {
   "cell_type": "markdown",
   "id": "765cc98b",
   "metadata": {},
   "source": [
    "1. 데이터셋 불러오기 및 feature 분석(1번, 2-1번 문제)"
   ]
  },
  {
   "cell_type": "code",
   "execution_count": 1,
   "id": "01c44b4b-08cf-4d54-a151-f5238f10c1b9",
   "metadata": {},
   "outputs": [
    {
     "name": "stdout",
     "output_type": "stream",
     "text": [
      "Shape of the dataset: (117134, 8)\n",
      "Columns in the dataset: Index(['reviewId', 'userName', 'content', 'score', 'thumbsUpCount',\n",
      "       'reviewCreatedVersion', 'at', 'appVersion'],\n",
      "      dtype='object')\n"
     ]
    }
   ],
   "source": [
    "import pandas as pd\n",
    "\n",
    "df = pd.read_csv(\"netflix_reviews.csv\")  # 파일 불러오기\n",
    "print(f\"Shape of the dataset: {df.shape}\")  # 데이터 크기 출력(행, 열 수) \n",
    "# 117,134개의 행이 있고, 8개의 열이 있다.\n",
    "print(f\"Columns in the dataset: {df.columns}\")  # 데이터 열 이름 출력\n",
    "#열의 이름은 식별자, 닉네임, 내용, 평점, 좋아요 수, 앱버전, 날짜 및 시간, 버전 정보로 확인된다."
   ]
  },
  {
   "cell_type": "code",
   "execution_count": 2,
   "id": "e08f26a6",
   "metadata": {},
   "outputs": [],
   "source": [
    "# 전처리 함수\n",
    "def preprocess_text(text):\n",
    "    if isinstance(text, float):\n",
    "        return \"\"\n",
    "    text = text.lower()  # 대문자를 소문자로\n",
    "    text = re.sub(r'[^\\w\\s]', '', text)  # 구두점 제거\n",
    "    text = re.sub(r'\\d+', '', text)  # 숫자 제거\n",
    "    text = text.strip()  # 띄어쓰기 제외하고 빈 칸 제거\n",
    "    return text"
   ]
  },
  {
   "cell_type": "code",
   "execution_count": 3,
   "id": "b6265264",
   "metadata": {},
   "outputs": [
    {
     "data": {
      "image/png": "[encoded data removed]",
      "text/plain": [
       "<Figure size 640x480 with 1 Axes>"
      ]
     },
     "metadata": {},
     "output_type": "display_data"
    }
   ],
   "source": [
    "import seaborn as sns\n",
    "import matplotlib.pyplot as plt  # 라이브러리 임포트\n",
    "\n",
    "score_counts = df['score'].value_counts().reset_index()  #score열에 들어 있는 점수들의 빈도를 계산함\n",
    "score_counts.columns = ['score', 'count']  # 열이름을 리뷰점수score와 리뷰개수count로 지정함\n",
    "\n",
    "# 계산된 'score'와 'count'를 이용해 막대 그래프 생성\n",
    "sns.barplot(x=score_counts['score'], y=score_counts['count'])  #seaborn의 막대 그래프를 생성함(x축은 점수, y축은 개수)\n",
    "plt.xlabel('Score')  #x축 레이블 제목지정\n",
    "plt.ylabel('Count')  #y축 레이블 제목지정\n",
    "plt.title('Distribution of Scores')  #그래프 제목지정\n",
    "plt.show()  # 그래프표시"
   ]
  },
  {
   "cell_type": "code",
   "execution_count": 9,
   "id": "91a1b854",
   "metadata": {},
   "outputs": [
    {
     "name": "stdout",
     "output_type": "stream",
     "text": [
      "Epoch 1/5, Loss: 1.3810\n",
      "Epoch 2/5, Loss: 1.3585\n",
      "Epoch 3/5, Loss: 1.3571\n",
      "Epoch 4/5, Loss: 1.3385\n",
      "Epoch 5/5, Loss: 1.3337\n",
      "Predicted Score: 1\n"
     ]
    }
   ],
   "source": [
    "import torch\n",
    "import torch.nn as nn\n",
    "import torch.optim as optim\n",
    "from torch.utils.data import DataLoader, Dataset\n",
    "from torch.nn.utils.rnn import pad_sequence\n",
    "from sklearn.preprocessing import LabelEncoder\n",
    "\n",
    "# 데이터셋 클래스 정의: 리뷰와 점수를 관리하는 클래스\n",
    "class ReviewDataset(Dataset):\n",
    "    def __init__(self, reviews, ratings, text_pipeline, label_pipeline):  # init 데이터 초기화\n",
    "        self.reviews = reviews  # 리뷰 데이터\n",
    "        self.ratings = ratings  # 리뷰에 대응되는 점수 데이터\n",
    "        self.text_pipeline = text_pipeline  # 텍스트 데이터를 숫자로 변환하는 함수\n",
    "        self.label_pipeline = label_pipeline  # 레이블 데이터를 숫자로 변환하는 함수\n",
    "\n",
    "    def __len__(self):  # 길이 반환\n",
    "        return len(self.reviews)  # 전체 크기 반환\n",
    "\n",
    "    def __getitem__(self, idx):  #  주어진 인덱스에 해당하는 리뷰와 점수를 변환해 반환\n",
    "        review = self.text_pipeline(self.reviews[idx])  # 리뷰를 숫자로 변환\n",
    "        rating = self.label_pipeline(self.ratings[idx])  # 점수(레이블)를 숫자로 변환\n",
    "        return torch.tensor(review), torch.tensor(rating)  # 숫자로 변환된 리뷰와 점수를 텐서로 반환\n",
    "\n",
    "# 예시 데이터 정의: 학습 및 테스트용 리뷰와 점수\n",
    "train_reviews = [\"This app is amazing\", \"I don't like the design\", \"It's a good app\", \"Terrible experience\"]\n",
    "train_ratings = [5, 1, 4, 2]  # 각 리뷰에 대한 점수\n",
    "test_reviews = [\"I love it\", \"Not great\"]\n",
    "test_ratings = [5, 3]  # 테스트용 리뷰와 점수\n",
    "\n",
    "# 텍스트 파이프라인 정의  # 소문자로 변환하고 공백을 기준으로 나눔\n",
    "def simple_tokenizer(text):  \n",
    "    return text.lower().split()  \n",
    "\n",
    "vocab = {}  # 간단한 단어 사전 생성  # 고유한 인덱스로 변환\n",
    "for review in train_reviews + test_reviews:  # 학습과 테스트 리뷰를 모두 사용해 사전 구성\n",
    "    for token in simple_tokenizer(review):  # 리뷰의 단어를 토큰으로 분리\n",
    "        if token not in vocab:  # 단어가 사전에 없으면\n",
    "            vocab[token] = len(vocab)  # 새로운 인덱스를 할당\n",
    "\n",
    "def text_pipeline(text):  # 텍스트를 숫자 인덱스로 변환\n",
    "    return [vocab[token] for token in simple_tokenizer(text) if token in vocab]\n",
    "\n",
    "label_encoder = LabelEncoder()  # 점수를 숫자로 변환\n",
    "label_encoder.fit(train_ratings)  # 점수를 사용해 인코딩\n",
    "label_pipeline = lambda x: label_encoder.transform([x])[0]  # 레이블을 숫자로 변환하는 람다 함수\n",
    "\n",
    "# collate_fn: 패딩을 추가해 리뷰길이를 일정하게 맞춤\n",
    "def collate_fn(batch):\n",
    "    reviews, ratings = zip(*batch)  # 리뷰와 점수를 나눠서 그룹화\n",
    "    reviews_padded = pad_sequence(reviews, batch_first=True, padding_value=0)  # 리뷰길이가 달라 0으로 패딩\n",
    "    ratings = torch.stack(ratings)  # 레이블을 스택으로 쌓음\n",
    "    return reviews_padded, ratings  # 패딩된 리뷰와 레이블 반환\n",
    "\n",
    "# 데이터셋 정의: 학습용, 테스트용\n",
    "train_dataset = ReviewDataset(train_reviews, train_ratings, text_pipeline, label_pipeline)\n",
    "test_dataset = ReviewDataset(test_reviews, test_ratings, text_pipeline, label_pipeline)\n",
    "\n",
    "# 데이터 로더는 배치 크기만큼 데이터를 불러옴  \n",
    "BATCH_SIZE = 2  # 배치크기정의\n",
    "train_dataloader = DataLoader(train_dataset, batch_size=BATCH_SIZE, shuffle=True, collate_fn=collate_fn)  # 학습용 데이터 로더\n",
    "test_dataloader = DataLoader(test_dataset, batch_size=BATCH_SIZE, shuffle=False, collate_fn=collate_fn)  # 테스트용 데이터 로더\n",
    "\n",
    "# LSTM 모델 정의: 리뷰를 학습하고 점수를 예측함\n",
    "class LSTMModel(nn.Module):\n",
    "    def __init__(self, vocab_size, embed_dim, hidden_dim, output_dim):\n",
    "        super(LSTMModel, self).__init__()\n",
    "        self.embedding = nn.Embedding(vocab_size, embed_dim)  # embedding: 단어를 고정된 크기의 벡터로 변환\n",
    "        self.lstm = nn.LSTM(embed_dim, hidden_dim, batch_first=True)  # lstm: 시퀀스 데이터를 처리해 시간적 관계를 학습\n",
    "        self.fc = nn.Linear(hidden_dim, output_dim)  # fc: lstm의 마지막 숨겨진 상태를 받아 예측 결과를 출력\n",
    "\n",
    "    def forward(self, text):\n",
    "        embedded = self.embedding(text)  # 텍스트 임베딩(벡터화)\n",
    "        lstm_out, (hidden, cell) = self.lstm(embedded)  # 시퀀스 처리\n",
    "        return self.fc(hidden[-1])  # 점수 예측\n",
    "\n",
    "# 하이퍼파라미터 설정\n",
    "VOCAB_SIZE = len(vocab)  # 사전크기(단어 수)\n",
    "EMBED_DIM = 64  # 임베딩 벡터 차원 수\n",
    "HIDDEN_DIM = 128  # lstm의 숨겨진 상태 차원\n",
    "OUTPUT_DIM = len(set(train_ratings))  # 예측할 점수(레이블) 개수\n",
    "\n",
    "# lstm모델 초기화 \n",
    "model = LSTMModel(VOCAB_SIZE, EMBED_DIM, HIDDEN_DIM, OUTPUT_DIM) \n",
    "\n",
    "# 손실 함수와 옵티마이저 정의\n",
    "criterion = nn.CrossEntropyLoss()  # 다중 클래스 분류를 위한 교차 엔트로피 손실 함수\n",
    "optimizer = optim.SGD(model.parameters(), lr=0.01)  # 확률적 경사하강법(SDG)을 사용한 옵티마이저(학습률 0.01)\n",
    "\n",
    "# 모델 학습 함수\n",
    "def train_model(model, dataloader, criterion, optimizer, epochs=5):\n",
    "    model.train()  #  모델 학습모드설정\n",
    "    for epoch in range(epochs):  # 지정 epoch만큼 반복학습\n",
    "        total_loss = 0  # epoch동안의 총 손실값 초기화\n",
    "        for reviews, ratings in dataloader:  # 배치단위로 데이터 로드\n",
    "            optimizer.zero_grad()  # 이전 기울기 초기화\n",
    "            output = model(reviews)  # 모델에 리뷰데이터 입력하여 예측 값 출력\n",
    "            loss = criterion(output, ratings)  # 예측 값과 실제 레이블 간의 손실 계산\n",
    "            loss.backward()  # 손실을 기준으로 기울기를 계산(역전파)\n",
    "            optimizer.step()  # 기울기를 사용해 모델의 가중치 업데이트\n",
    "            total_loss += loss.item()  # 손실 값 누적\n",
    "        print(f'Epoch {epoch+1}/{epochs}, Loss: {total_loss/len(dataloader):.4f}')  # 에포크별 손실 출력\n",
    "\n",
    "train_model(model, train_dataloader, criterion, optimizer)  # 모델 학습 실행\n",
    "\n",
    "# 예측 함수: 새로운 리뷰에 대해 예측된 점수 반환\n",
    "def predict_review(model, review):  \n",
    "    model.eval()  # 모델을 평가 모드로 전환\n",
    "    with torch.no_grad():  # 기울기 계산을 비활성화(평가 시 불필요)\n",
    "        tensor_review = torch.tensor(text_pipeline(review), dtype=torch.long).unsqueeze(0)  \n",
    "        # unsqueeze(0) 리뷰를 숫자로 변환한 후 배치 차원 추가\n",
    "        output = model(tensor_review)  # 모델을 사용해 예측\n",
    "        prediction = output.argmax(1).item()  # 예측한 클래스(점수) 선택\n",
    "        return label_encoder.inverse_transform([prediction])[0]  # 예측된 숫자를 원래 점수로 변환\n",
    "\n",
    "# 새로운 리뷰에 대한 예측\n",
    "new_review = \"This app is great but has some bugs.\"  # 새로운 리뷰 입력\n",
    "predicted_score = predict_review(model, new_review)  # 새로운 리뷰에 대한 예측 수행\n",
    "print(f'Predicted Score: {predicted_score}')  # 예측된 점수 출력\n",
    "\n",
    "# 출력결과 loss값은 다섯 번의 epoch 동안 1.38에서 1.33으로 감소했으나 감소 폭이 크지 않았음 \n",
    "# 이는 모델이 아직 최적화 되지 않았거나 더 많은 학습이 필요함을 의미함.\n",
    "# \"어플이 훌륭하지만 약간의 버그가 있다\"는 새로운 리뷰에 대해 모델이 예측한 값은 1임\n",
    "# 약간의 결점만 언급하였음에도 낮은 점수를 예측한 것은, 모델이 적절히 학습되지 않았음을 의미함.\n",
    "# 따라서 더 많은 학습과 데이터셋의 크기를 조정함으로써 성능을 개선할 필요가 있음."
   ]
  }
 ],
 "metadata": {
  "kernelspec": {
   "display_name": "maricecil",
   "language": "python",
   "name": "python3"
  },
  "language_info": {
   "codemirror_mode": {
    "name": "ipython",
    "version": 3
   },
   "file_extension": ".py",
   "mimetype": "text/x-python",
   "name": "python",
   "nbconvert_exporter": "python",
   "pygments_lexer": "ipython3",
   "version": "3.12.5"
  }
 },
 "nbformat": 4,
 "nbformat_minor": 5
}
